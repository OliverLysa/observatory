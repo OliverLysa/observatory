{
 "cells": [
  {
   "cell_type": "code",
   "execution_count": null,
   "id": "e8b97d7d",
   "metadata": {},
   "outputs": [],
   "source": [
    "# Import libraries from which to call functions e.g. urllib \n",
    "import urllib.request\n",
    "import traceback\n",
    "import pandas as pd  # library for data analysis\n",
    "import requests  # library to handle requests\n",
    "from bs4 import BeautifulSoup  # library to parse HTML documents\n",
    "import pyproj\n",
    "import traceback\n",
    "from lat_lon_parser import parse\n",
    "import geopy.distance"
   ]
  },
  {
   "cell_type": "code",
   "execution_count": null,
   "id": "41752174",
   "metadata": {},
   "outputs": [],
   "source": [
    "# Get the response in the form of html by calling the URL\n",
    "wikiurl = \"https://en.wikipedia.org/wiki/List_of_onshore_wind_farms_in_the_United_Kingdom\"\n",
    "table_class = \"wikitable sortable jquery-tablesorter\"\n",
    "response = requests.get(wikiurl)\n",
    "# print response status from call. If 200, then there is success in retrieval of data\n",
    "print(response.status_code)\n",
    "\n",
    "# Parse data table from the html into a beautifulsoup object\n",
    "soup = BeautifulSoup(response.text, 'html.parser')\n",
    "table = soup.find_all('table', {'class': \"wikitable\"})[3]\n",
    "df = pd.read_html(str(table))\n",
    "# Convert that list object to a dataframe\n",
    "Wales = pd.DataFrame(df[0])"
   ]
  },
  {
   "cell_type": "code",
   "execution_count": 30,
   "id": "aa93ee9b",
   "metadata": {
    "scrolled": true
   },
   "outputs": [
    {
     "data": {
      "text/plain": [
       "Name           object\n",
       "Model          object\n",
       "Owner          object\n",
       "Coordinates    object\n",
       "dtype: object"
      ]
     },
     "execution_count": 30,
     "metadata": {},
     "output_type": "execute_result"
    }
   ],
   "source": [
    "Total_onshore = pd.concat([England, Wales, Ireland, Scotland], axis=0)\n",
    "\n",
    "# Filter to operational in the development status column\n",
    "filter_list_status = ['[1]']\n",
    "Total_onshore = Total_onshore[~Total_onshore.Website.isin(filter_list_status)]\n",
    "\n",
    "# Keep wanted columns in the dataframe\n",
    "Total_onshore = Total_onshore[['Wind farm', 'Model', 'Owner', 'Coordinates']]\n",
    "Total_onshore = Total_onshore.rename(columns={'Wind farm': 'Name'})\n",
    "\n",
    "# Remove leading and trailing spaces in name column to make it easier to match across data tables \n",
    "Total_onshore['Name'] = Total_onshore['Name'].str.strip()\n",
    "\n",
    "Total_onshore['Coordinates'] = Total_onshore['Coordinates'].replace(r\"\\(.*/)\", \"\")\n",
    "\n",
    "Total_onshore\n",
    "\n",
    "Total_onshore.to_csv('Total_onshore.csv', index=False)"
   ]
  }
 ],
 "metadata": {
  "kernelspec": {
   "display_name": "Python 3 (ipykernel)",
   "language": "python",
   "name": "python3"
  },
  "language_info": {
   "codemirror_mode": {
    "name": "ipython",
    "version": 3
   },
   "file_extension": ".py",
   "mimetype": "text/x-python",
   "name": "python",
   "nbconvert_exporter": "python",
   "pygments_lexer": "ipython3",
   "version": "3.9.12"
  }
 },
 "nbformat": 4,
 "nbformat_minor": 5
}
